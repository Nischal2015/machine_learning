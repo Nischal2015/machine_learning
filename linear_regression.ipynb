{
  "nbformat": 4,
  "nbformat_minor": 5,
  "metadata": {
    "kernelspec": {
      "display_name": "Python 3",
      "language": "python",
      "name": "python3"
    },
    "language_info": {
      "codemirror_mode": {
        "name": "ipython",
        "version": 3
      },
      "file_extension": ".py",
      "mimetype": "text/x-python",
      "name": "python",
      "nbconvert_exporter": "python",
      "pygments_lexer": "ipython3",
      "version": "3.7.8"
    },
    "colab": {
      "name": "linear_regression.ipynb",
      "provenance": [],
      "collapsed_sections": [],
      "include_colab_link": true
    }
  },
  "cells": [
    {
      "cell_type": "markdown",
      "metadata": {
        "id": "view-in-github",
        "colab_type": "text"
      },
      "source": [
        "<a href=\"https://colab.research.google.com/github/Nischal2015/machine_learning/blob/linear_regression/linear_regression.ipynb\" target=\"_parent\"><img src=\"https://colab.research.google.com/assets/colab-badge.svg\" alt=\"Open In Colab\"/></a>"
      ]
    },
    {
      "cell_type": "markdown",
      "metadata": {
        "id": "kf4l3eJ7sXYl"
      },
      "source": [
        "# Performing linear regression using various methods"
      ],
      "id": "kf4l3eJ7sXYl"
    },
    {
      "cell_type": "markdown",
      "metadata": {
        "id": "ylNoUiCJ-P9M"
      },
      "source": [
        "<img align='left' style='padding-right:15px' src='https://miro.medium.com/max/640/1*LEmBCYAttxS6uI6rEyPLMQ.png' height='110px' width='150px'>\n",
        "\n",
        "*The section below contains various way of applying linear regression. The cells below contains linear regression code applied on a small data set generated using some function.*"
      ],
      "id": "ylNoUiCJ-P9M"
    },
    {
      "cell_type": "code",
      "metadata": {
        "id": "accepting-archives"
      },
      "source": [
        "# Imports the necessary modules\n",
        "import numpy as np\n",
        "\n",
        "import matplotlib.pyplot as plt\n",
        "%matplotlib inline\n",
        "\n",
        "import seaborn as sns"
      ],
      "id": "accepting-archives",
      "execution_count": 1,
      "outputs": []
    },
    {
      "cell_type": "code",
      "metadata": {
        "id": "FHbv1ikkOue3"
      },
      "source": [
        "# Creates the dataset\n",
        "x = np.linspace(-2,2,300)\n",
        "y = np.exp(x) + 1.2*x + 0.25\n",
        "#y = np.sqrt(121-x**2)\n",
        "#y = 3*x + 15\n",
        "\n",
        "# Sets the constant value for noise\n",
        "#np.random.seed(10)\n",
        "\n",
        "noise = np.random.normal(0, 0.5, x.shape)\n",
        "y = y + noise\n",
        "x = x - 5"
      ],
      "id": "FHbv1ikkOue3",
      "execution_count": 2,
      "outputs": []
    },
    {
      "cell_type": "code",
      "metadata": {
        "colab": {
          "base_uri": "https://localhost:8080/",
          "height": 386
        },
        "id": "N4uV7p8ZoPKN",
        "outputId": "7e9454b9-573e-40cb-cca2-096187422921"
      },
      "source": [
        "sns.displot(y,)"
      ],
      "id": "N4uV7p8ZoPKN",
      "execution_count": 3,
      "outputs": [
        {
          "output_type": "execute_result",
          "data": {
            "text/plain": [
              "<seaborn.axisgrid.FacetGrid at 0x7ff80f6b32d0>"
            ]
          },
          "metadata": {
            "tags": []
          },
          "execution_count": 3
        },
        {
          "output_type": "display_data",
          "data": {
            "image/png": "[encoded data removed]",
            "text/plain": [
              "<Figure size 360x360 with 1 Axes>"
            ]
          },
          "metadata": {
            "tags": [],
            "needs_background": "light"
          }
        }
      ]
    },
    {
      "cell_type": "code",
      "metadata": {
        "id": "S_hPt6lgqTw_"
      },
      "source": [
        "from sklearn.model_selection import train_test_split\n",
        "\n",
        "# Splits the data into training and test set\n",
        "x_train, x_test, y_train, y_test = train_test_split(x, y)"
      ],
      "id": "S_hPt6lgqTw_",
      "execution_count": 4,
      "outputs": []
    },
    {
      "cell_type": "code",
      "metadata": {
        "colab": {
          "base_uri": "https://localhost:8080/",
          "height": 421
        },
        "id": "2B01PtH9cHcu",
        "outputId": "3ff6d029-403d-4ef3-bd72-bad0afea4325"
      },
      "source": [
        "# Plots the training set\n",
        "plt.figure(figsize=(8,6))\n",
        "plt.title(\"Dataset\")\n",
        "plt.xlabel('X value')\n",
        "plt.ylabel('Y value')\n",
        "plt.scatter(x_train, y_train, marker='.', color='blue', alpha=0.7)"
      ],
      "id": "2B01PtH9cHcu",
      "execution_count": 5,
      "outputs": [
        {
          "output_type": "execute_result",
          "data": {
            "text/plain": [
              "<matplotlib.collections.PathCollection at 0x7ff81cc53490>"
            ]
          },
          "metadata": {
            "tags": []
          },
          "execution_count": 5
        },
        {
          "output_type": "display_data",
          "data": {
            "image/png": "[encoded data removed]",
            "text/plain": [
              "<Figure size 576x432 with 1 Axes>"
            ]
          },
          "metadata": {
            "tags": [],
            "needs_background": "light"
          }
        }
      ]
    },
    {
      "cell_type": "markdown",
      "metadata": {
        "id": "eG-ol2YCBpwI"
      },
      "source": [
        "## Linear Regression Using Least Square Method"
      ],
      "id": "eG-ol2YCBpwI"
    },
    {
      "cell_type": "markdown",
      "metadata": {
        "id": "YFH4BAy0CEwn"
      },
      "source": [
        "<!--NAVIGATION-->\n",
        "*To understand the least square method please do visit here: [The Least Squares Method](https://docs.google.com/document/d/1vXgizn0Zz5VM_mTEfrRqwydfCyn0OY5DNlkieFLRU68/edit)*"
      ],
      "id": "YFH4BAy0CEwn"
    },
    {
      "cell_type": "code",
      "metadata": {
        "id": "3b_5DxWPcY3n"
      },
      "source": [
        "# Regression model\n",
        "def regression(x,y):\n",
        "  n = len(x)\n",
        "  sum_x = np.sum(x)\n",
        "  sum_y = np.sum(y)\n",
        "  sum_s_squared = np.sum(np.square(x))\n",
        "  sum_xy = np.sum(x*y)\n",
        "\n",
        "  # Slope\n",
        "  m = (n*sum_xy - sum_x*sum_y)/(n*sum_s_squared - sum_x**2)\n",
        "  # y-intercept\n",
        "  c = (sum_y - m*sum_x)/n\n",
        "\n",
        "  return m, c\n",
        "\n",
        "# Function to calculate squared error\n",
        "def mean_squared_error(actual, observed):\n",
        "  return np.sum((actual-observed)**2)/len(actual)\n",
        "\n",
        "# Function to calculate r-squared\n",
        "def r_squared(actual, observed):\n",
        "  var_mean = np.var(actual)\n",
        "  var_fit = mean_squared_error(actual, observed)/len(actual)\n",
        "  return (var_mean-var_fit) / var_mean\n",
        "\n",
        "# Cost function for gradient descent\n",
        "def cost_function(actual, observed):\n",
        "  return 1/2*mean_squared_error(actual, observed)"
      ],
      "id": "3b_5DxWPcY3n",
      "execution_count": 6,
      "outputs": []
    },
    {
      "cell_type": "code",
      "metadata": {
        "id": "NfpmIyR9e0JV",
        "colab": {
          "base_uri": "https://localhost:8080/"
        },
        "outputId": "225ac501-d5eb-4df2-d79c-ba496626ebbc"
      },
      "source": [
        "# Calling the module\n",
        "slope, intercept = regression(x_train,y_train)\n",
        "print(\"slope:\",slope,\"    intercept:\",intercept)\n",
        "\n",
        "# Array of predictions\n",
        "y_guess_train = slope*x_train + intercept\n",
        "y_guess_test = slope*x_test + intercept\n",
        "\n",
        "# Calculates the squared error\n",
        "print(\"\\nTraining MSE:\", mean_squared_error(y_train, y_guess_train))\n",
        "print(\"Testing MSE:\", mean_squared_error(y_test, y_guess_test))\n",
        "\n",
        "# Calculates R-squared\n",
        "print(\"\\nTraining R-squared:\", r_squared(y_train, y_guess_train))\n",
        "print(\"Testing R-squared:\", r_squared(y_test, y_guess_test))\n",
        "\n",
        "## Prints the correlation coefficient\n",
        "#print(np.corrcoef(y, y_guess))\n",
        "\n",
        "# Calculates the cost function (mean squared deviation)\n",
        "#print(\"Cost function:\", cost_function(y, y_guess))"
      ],
      "id": "NfpmIyR9e0JV",
      "execution_count": 7,
      "outputs": [
        {
          "output_type": "stream",
          "text": [
            "slope: 2.6918496452367484     intercept: 15.551314890667019\n",
            "\n",
            "Training MSE: 0.9222505922140678\n",
            "Testing MSE: 0.830218158701349\n",
            "\n",
            "Training R-squared: 0.9996221200561205\n",
            "Testing R-squared: 0.9988570846145512\n"
          ],
          "name": "stdout"
        }
      ]
    },
    {
      "cell_type": "code",
      "metadata": {
        "colab": {
          "base_uri": "https://localhost:8080/",
          "height": 421
        },
        "id": "6qu6krrwfcNJ",
        "outputId": "68988611-4713-4469-b09c-641f0ad025c9"
      },
      "source": [
        "plt.figure(figsize=(8, 6))\n",
        "plt.title(\"Regression line Fitting\")\n",
        "plt.xlabel('X value')\n",
        "plt.ylabel('Y value')\n",
        "plt.scatter(x_train, y_train, marker='.', color='g', alpha=0.6)\n",
        "#plt.scatter(x_test, y_test, marker='.', color='r')\n",
        "plt.scatter(x_train, y_guess_train, marker='.', color='r', alpha=0.5)"
      ],
      "id": "6qu6krrwfcNJ",
      "execution_count": 8,
      "outputs": [
        {
          "output_type": "execute_result",
          "data": {
            "text/plain": [
              "<matplotlib.collections.PathCollection at 0x7ff803c5aed0>"
            ]
          },
          "metadata": {
            "tags": []
          },
          "execution_count": 8
        },
        {
          "output_type": "display_data",
          "data": {
            "image/png": "[encoded data removed]",
            "text/plain": [
              "<Figure size 576x432 with 1 Axes>"
            ]
          },
          "metadata": {
            "tags": [],
            "needs_background": "light"
          }
        }
      ]
    },
    {
      "cell_type": "markdown",
      "metadata": {
        "id": "7l664phMBPsA"
      },
      "source": [
        "## Linear Regression using Matrix Multiplication "
      ],
      "id": "7l664phMBPsA"
    },
    {
      "cell_type": "code",
      "metadata": {
        "id": "NsKJfAKUjLx5"
      },
      "source": [
        "# Linear Regression using matrix multiplication\n",
        "X = np.column_stack((np.ones(x_train.shape), x_train))\n",
        "w = np.empty(X.ndim)"
      ],
      "id": "NsKJfAKUjLx5",
      "execution_count": 9,
      "outputs": []
    },
    {
      "cell_type": "markdown",
      "metadata": {
        "id": "RB6OTi1L643x"
      },
      "source": [
        "<br> \n",
        "*The cell below calculates the parameter $\\theta$ = $\\begin{bmatrix}m\\\\ c \\end{bmatrix}$ using normal equation*\n",
        "$$\\theta = (X^TX)^{-1}X^TY = X^+Y$$\n",
        "<br>\n",
        "*where,*<br>\n",
        "$$X^+ = (X^TX)^{-1}X^T$$\n",
        "<br>*is called the pseudo-inverse of $X$.*"
      ],
      "id": "RB6OTi1L643x"
    },
    {
      "cell_type": "code",
      "metadata": {
        "colab": {
          "base_uri": "https://localhost:8080/"
        },
        "id": "2q06AH72UTQE",
        "outputId": "e35516dc-8927-4c83-e356-c65b8813f2a6"
      },
      "source": [
        "y_train = np.array(y_train)\n",
        "theta = np.linalg.pinv(X)@y_train[:, np.newaxis]\n",
        "theta"
      ],
      "id": "2q06AH72UTQE",
      "execution_count": 10,
      "outputs": [
        {
          "output_type": "execute_result",
          "data": {
            "text/plain": [
              "array([[15.55131489],\n",
              "       [ 2.69184965]])"
            ]
          },
          "metadata": {
            "tags": []
          },
          "execution_count": 10
        }
      ]
    },
    {
      "cell_type": "code",
      "metadata": {
        "id": "mn2RYTBFcfgy",
        "colab": {
          "base_uri": "https://localhost:8080/"
        },
        "outputId": "d3ea444a-8b6f-4d58-ae2b-94d8f35813fa"
      },
      "source": [
        "Y_train_pred = X @ theta\n",
        "Y_test_pred = np.column_stack((np.ones(x_test.shape), x_test)) @ theta\n",
        "train_error = mean_squared_error(y_train, Y_train_pred.flatten())\n",
        "test_error = mean_squared_error(y_test, Y_test_pred.flatten())\n",
        "print(\"Training error:\", train_error)\n",
        "print(\"Test error:\", test_error)"
      ],
      "id": "mn2RYTBFcfgy",
      "execution_count": 11,
      "outputs": [
        {
          "output_type": "stream",
          "text": [
            "Training error: 0.922250592214068\n",
            "Test error: 0.8302181587013483\n"
          ],
          "name": "stdout"
        }
      ]
    },
    {
      "cell_type": "code",
      "metadata": {
        "colab": {
          "base_uri": "https://localhost:8080/",
          "height": 391
        },
        "id": "C96Ufp_ZcsK6",
        "outputId": "dcc2476f-476b-4fa2-ba90-50e5b8f750c5"
      },
      "source": [
        "plt.figure(figsize=(8,6))\n",
        "plt.scatter(x_train, y_train, marker='.', color='g', alpha=0.7)\n",
        "plt.scatter(x_train, Y_train_pred, marker='.', color='r', alpha=0.6)"
      ],
      "id": "C96Ufp_ZcsK6",
      "execution_count": 12,
      "outputs": [
        {
          "output_type": "execute_result",
          "data": {
            "text/plain": [
              "<matplotlib.collections.PathCollection at 0x7ff803c33090>"
            ]
          },
          "metadata": {
            "tags": []
          },
          "execution_count": 12
        },
        {
          "output_type": "display_data",
          "data": {
            "image/png": "[encoded data removed]",
            "text/plain": [
              "<Figure size 576x432 with 1 Axes>"
            ]
          },
          "metadata": {
            "tags": [],
            "needs_background": "light"
          }
        }
      ]
    },
    {
      "cell_type": "markdown",
      "metadata": {
        "id": "hOM1C0niNUy-"
      },
      "source": [
        "## Linear Regression Using Gradient Descent"
      ],
      "id": "hOM1C0niNUy-"
    },
    {
      "cell_type": "code",
      "metadata": {
        "id": "1vObL71CdJcm"
      },
      "source": [
        "def gradient_descent(x_train, y_train, alpha, no_of_iterations):\n",
        "  x_train, y_train = x_train.reshape(-1,1), y_train.reshape(-1,1)\n",
        "  m, n = x_train.shape\n",
        "  theta = np.zeros(n+1).reshape(n+1, 1)\n",
        "  cost = np.empty(no_of_iterations)\n",
        "  x_train = np.column_stack((np.ones(m), x_train))\n",
        "  for i in range(no_of_iterations):\n",
        "    hyp = x_train @ theta\n",
        "    error = hyp - y_train\n",
        "    theta = theta - 1/m*alpha * (x_train.T @ error)\n",
        "    cost[i] = cost_function(y_train, hyp)\n",
        "\n",
        "  return theta, cost\n",
        "\n",
        "theta, cost = gradient_descent(x_train, y_train, 0.001, 1000000)\n",
        "y_hat = np.column_stack((np.ones(x_train.shape),x_train.reshape(-1,1))) @ theta"
      ],
      "id": "1vObL71CdJcm",
      "execution_count": 34,
      "outputs": []
    },
    {
      "cell_type": "code",
      "metadata": {
        "id": "g07cJdYjF33k",
        "colab": {
          "base_uri": "https://localhost:8080/",
          "height": 391
        },
        "outputId": "6ed24585-4d3d-4d8b-9073-f6f75d4d2d68"
      },
      "source": [
        "plt.figure(figsize=(8,6))\n",
        "plt.scatter(x_train, y_train, marker='.', color='r', alpha=0.5)\n",
        "plt.scatter(x_train, y_hat, marker='.', color='g', alpha=0.6)  "
      ],
      "id": "g07cJdYjF33k",
      "execution_count": 37,
      "outputs": [
        {
          "output_type": "execute_result",
          "data": {
            "text/plain": [
              "<matplotlib.collections.PathCollection at 0x7ff803466f50>"
            ]
          },
          "metadata": {
            "tags": []
          },
          "execution_count": 37
        },
        {
          "output_type": "display_data",
          "data": {
            "image/png": "[encoded data removed]",
            "text/plain": [
              "<Figure size 576x432 with 1 Axes>"
            ]
          },
          "metadata": {
            "tags": [],
            "needs_background": "light"
          }
        }
      ]
    },
    {
      "cell_type": "code",
      "metadata": {
        "id": "8x3TKpbdlWzK",
        "colab": {
          "base_uri": "https://localhost:8080/",
          "height": 297
        },
        "outputId": "3edf3088-3eb5-49f1-aedd-b8e9921394e8"
      },
      "source": [
        "# Plots the cost function vs number of iterations\n",
        "plt.plot(np.array(range(1,1000001)), cost)"
      ],
      "id": "8x3TKpbdlWzK",
      "execution_count": 36,
      "outputs": [
        {
          "output_type": "execute_result",
          "data": {
            "text/plain": [
              "[<matplotlib.lines.Line2D at 0x7ff80369b350>]"
            ]
          },
          "metadata": {
            "tags": []
          },
          "execution_count": 36
        },
        {
          "output_type": "display_data",
          "data": {
            "image/png": "[encoded data removed]",
            "text/plain": [
              "<Figure size 432x288 with 1 Axes>"
            ]
          },
          "metadata": {
            "tags": [],
            "needs_background": "light"
          }
        }
      ]
    },
    {
      "cell_type": "markdown",
      "metadata": {
        "id": "3ehZCV-f8455"
      },
      "source": [
        "## <p style='color:red'>The contour plot (which of course doesn't look like so) needs to be fixed.</p>"
      ],
      "id": "3ehZCV-f8455"
    },
    {
      "cell_type": "code",
      "metadata": {
        "id": "TZ6mNSxgEhZV"
      },
      "source": [
        "# from mpl_toolkits import mplot3d\n",
        "# ax = plt.axes(projection='3d')\n",
        "# theta0 = np.linspace(-1,1,200)\n",
        "# theta1 = np.linspace(0,2,200)\n",
        "# X, Y = np.meshgrid(theta0, theta1)\n",
        "# cost_z = cost[0::500]\n",
        "# COST_Z = np.tile(cost_z, (len(cost_z), 1))\n",
        "\n",
        "# ax.plot_surface(X, Y, COST_Z, rstride=1, cstride=1,\n",
        "#                 cmap='hot', edgecolor='none')\n",
        "# ax.set_title('surface');"
      ],
      "id": "TZ6mNSxgEhZV",
      "execution_count": 20,
      "outputs": []
    }
  ]
}