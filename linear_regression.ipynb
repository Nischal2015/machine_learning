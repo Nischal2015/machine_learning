{
  "nbformat": 4,
  "nbformat_minor": 5,
  "metadata": {
    "kernelspec": {
      "display_name": "Python 3",
      "language": "python",
      "name": "python3"
    },
    "language_info": {
      "codemirror_mode": {
        "name": "ipython",
        "version": 3
      },
      "file_extension": ".py",
      "mimetype": "text/x-python",
      "name": "python",
      "nbconvert_exporter": "python",
      "pygments_lexer": "ipython3",
      "version": "3.7.8"
    },
    "colab": {
      "name": "linear_regression.ipynb",
      "provenance": [],
      "collapsed_sections": [],
      "include_colab_link": true
    }
  },
  "cells": [
    {
      "cell_type": "markdown",
      "metadata": {
        "id": "view-in-github",
        "colab_type": "text"
      },
      "source": [
        "<a href=\"https://colab.research.google.com/github/Nischal2015/machine_learning/blob/linear_regression/linear_regression.ipynb\" target=\"_parent\"><img src=\"https://colab.research.google.com/assets/colab-badge.svg\" alt=\"Open In Colab\"/></a>"
      ]
    },
    {
      "cell_type": "markdown",
      "metadata": {
        "id": "kf4l3eJ7sXYl"
      },
      "source": [
        "# Performing linear regression using various methods"
      ],
      "id": "kf4l3eJ7sXYl"
    },
    {
      "cell_type": "markdown",
      "metadata": {
        "id": "ylNoUiCJ-P9M"
      },
      "source": [
        "<img align='left' style='padding-right:15px' src='https://miro.medium.com/max/640/1*LEmBCYAttxS6uI6rEyPLMQ.png' height='110px' width='150px'>\n",
        "\n",
        "*The section below contains various way of applying linear regression. The cells below contains linear regression code applied on a small data set generated using some function.*"
      ],
      "id": "ylNoUiCJ-P9M"
    },
    {
      "cell_type": "code",
      "metadata": {
        "id": "accepting-archives"
      },
      "source": [
        "# Imports the necessary modules\n",
        "import numpy as np\n",
        "import pandas as pd\n",
        "import matplotlib.pyplot as plt\n",
        "%matplotlib inline\n",
        "\n",
        "import seaborn as sns"
      ],
      "id": "accepting-archives",
      "execution_count": 10,
      "outputs": []
    },
    {
      "cell_type": "code",
      "metadata": {
        "id": "FHbv1ikkOue3"
      },
      "source": [
        "# Creates the dataset\n",
        "x = np.linspace(1,5,500)\n",
        "y = np.cos(x) + 1.2*x + 0.25\n",
        "#y = np.sqrt(121-x**2)\n",
        "#y = 3*x + 15\n",
        "\n",
        "# Sets the constant value for noise\n",
        "#np.random.seed(10)\n",
        "\n",
        "noise = np.random.normal(0, 0.5, x.shape)\n",
        "y = y + noise\n",
        "x = x - 5"
      ],
      "id": "FHbv1ikkOue3",
      "execution_count": 53,
      "outputs": []
    },
    {
      "cell_type": "code",
      "metadata": {
        "colab": {
          "base_uri": "https://localhost:8080/",
          "height": 297
        },
        "id": "nRsOxrP809T3",
        "outputId": "eab4a183-e71f-4075-a368-d669186cb22f"
      },
      "source": [
        "df = pd.DataFrame({\"Predictor\":x, \"Output\":y})\n",
        "df.describe()"
      ],
      "id": "nRsOxrP809T3",
      "execution_count": 54,
      "outputs": [
        {
          "output_type": "execute_result",
          "data": {
            "text/html": [
              "<div>\n",
              "<style scoped>\n",
              "    .dataframe tbody tr th:only-of-type {\n",
              "        vertical-align: middle;\n",
              "    }\n",
              "\n",
              "    .dataframe tbody tr th {\n",
              "        vertical-align: top;\n",
              "    }\n",
              "\n",
              "    .dataframe thead th {\n",
              "        text-align: right;\n",
              "    }\n",
              "</style>\n",
              "<table border=\"1\" class=\"dataframe\">\n",
              "  <thead>\n",
              "    <tr style=\"text-align: right;\">\n",
              "      <th></th>\n",
              "      <th>Predictor</th>\n",
              "      <th>Output</th>\n",
              "    </tr>\n",
              "  </thead>\n",
              "  <tbody>\n",
              "    <tr>\n",
              "      <th>count</th>\n",
              "      <td>500.000000</td>\n",
              "      <td>500.000000</td>\n",
              "    </tr>\n",
              "    <tr>\n",
              "      <th>mean</th>\n",
              "      <td>-2.000000</td>\n",
              "      <td>3.423821</td>\n",
              "    </tr>\n",
              "    <tr>\n",
              "      <th>std</th>\n",
              "      <td>1.158171</td>\n",
              "      <td>1.453713</td>\n",
              "    </tr>\n",
              "    <tr>\n",
              "      <th>min</th>\n",
              "      <td>-4.000000</td>\n",
              "      <td>0.736549</td>\n",
              "    </tr>\n",
              "    <tr>\n",
              "      <th>25%</th>\n",
              "      <td>-3.000000</td>\n",
              "      <td>2.279431</td>\n",
              "    </tr>\n",
              "    <tr>\n",
              "      <th>50%</th>\n",
              "      <td>-2.000000</td>\n",
              "      <td>3.012368</td>\n",
              "    </tr>\n",
              "    <tr>\n",
              "      <th>75%</th>\n",
              "      <td>-1.000000</td>\n",
              "      <td>4.430887</td>\n",
              "    </tr>\n",
              "    <tr>\n",
              "      <th>max</th>\n",
              "      <td>0.000000</td>\n",
              "      <td>7.334482</td>\n",
              "    </tr>\n",
              "  </tbody>\n",
              "</table>\n",
              "</div>"
            ],
            "text/plain": [
              "        Predictor      Output\n",
              "count  500.000000  500.000000\n",
              "mean    -2.000000    3.423821\n",
              "std      1.158171    1.453713\n",
              "min     -4.000000    0.736549\n",
              "25%     -3.000000    2.279431\n",
              "50%     -2.000000    3.012368\n",
              "75%     -1.000000    4.430887\n",
              "max      0.000000    7.334482"
            ]
          },
          "metadata": {
            "tags": []
          },
          "execution_count": 54
        }
      ]
    },
    {
      "cell_type": "code",
      "metadata": {
        "colab": {
          "base_uri": "https://localhost:8080/",
          "height": 386
        },
        "id": "N4uV7p8ZoPKN",
        "outputId": "b6ab91f0-bd6b-4f0c-a32e-6569c6378cef"
      },
      "source": [
        "sns.displot(y, kde=True,)"
      ],
      "id": "N4uV7p8ZoPKN",
      "execution_count": 55,
      "outputs": [
        {
          "output_type": "execute_result",
          "data": {
            "text/plain": [
              "<seaborn.axisgrid.FacetGrid at 0x7f42d753ead0>"
            ]
          },
          "metadata": {
            "tags": []
          },
          "execution_count": 55
        },
        {
          "output_type": "display_data",
          "data": {
            "image/png": "[encoded data removed]",
            "text/plain": [
              "<Figure size 360x360 with 1 Axes>"
            ]
          },
          "metadata": {
            "tags": [],
            "needs_background": "light"
          }
        }
      ]
    },
    {
      "cell_type": "code",
      "metadata": {
        "colab": {
          "base_uri": "https://localhost:8080/",
          "height": 419
        },
        "id": "YfoLgPqG4WgQ",
        "outputId": "c2e5cf08-d81f-450d-deba-750a4112c927"
      },
      "source": [
        "## Not sure if the feature scaling or necessary of if I did it correctly.\n",
        "# Feature scaling\n",
        "df['scaled_Predictor'] = df['Predictor'] / (df['Predictor'].max()-df['Predictor'].min())\n",
        "df['scaled_Output'] = df['Output'] / (df['Output'].max()-df['Output'].min())\n",
        "df"
      ],
      "id": "YfoLgPqG4WgQ",
      "execution_count": 56,
      "outputs": [
        {
          "output_type": "execute_result",
          "data": {
            "text/html": [
              "<div>\n",
              "<style scoped>\n",
              "    .dataframe tbody tr th:only-of-type {\n",
              "        vertical-align: middle;\n",
              "    }\n",
              "\n",
              "    .dataframe tbody tr th {\n",
              "        vertical-align: top;\n",
              "    }\n",
              "\n",
              "    .dataframe thead th {\n",
              "        text-align: right;\n",
              "    }\n",
              "</style>\n",
              "<table border=\"1\" class=\"dataframe\">\n",
              "  <thead>\n",
              "    <tr style=\"text-align: right;\">\n",
              "      <th></th>\n",
              "      <th>Predictor</th>\n",
              "      <th>Output</th>\n",
              "      <th>scaled_Predictor</th>\n",
              "      <th>scaled_Output</th>\n",
              "    </tr>\n",
              "  </thead>\n",
              "  <tbody>\n",
              "    <tr>\n",
              "      <th>0</th>\n",
              "      <td>-4.000000</td>\n",
              "      <td>1.653662</td>\n",
              "      <td>-1.000000</td>\n",
              "      <td>0.250633</td>\n",
              "    </tr>\n",
              "    <tr>\n",
              "      <th>1</th>\n",
              "      <td>-3.991984</td>\n",
              "      <td>1.620380</td>\n",
              "      <td>-0.997996</td>\n",
              "      <td>0.245589</td>\n",
              "    </tr>\n",
              "    <tr>\n",
              "      <th>2</th>\n",
              "      <td>-3.983968</td>\n",
              "      <td>1.807703</td>\n",
              "      <td>-0.995992</td>\n",
              "      <td>0.273980</td>\n",
              "    </tr>\n",
              "    <tr>\n",
              "      <th>3</th>\n",
              "      <td>-3.975952</td>\n",
              "      <td>2.810769</td>\n",
              "      <td>-0.993988</td>\n",
              "      <td>0.426007</td>\n",
              "    </tr>\n",
              "    <tr>\n",
              "      <th>4</th>\n",
              "      <td>-3.967936</td>\n",
              "      <td>1.552902</td>\n",
              "      <td>-0.991984</td>\n",
              "      <td>0.235362</td>\n",
              "    </tr>\n",
              "    <tr>\n",
              "      <th>...</th>\n",
              "      <td>...</td>\n",
              "      <td>...</td>\n",
              "      <td>...</td>\n",
              "      <td>...</td>\n",
              "    </tr>\n",
              "    <tr>\n",
              "      <th>495</th>\n",
              "      <td>-0.032064</td>\n",
              "      <td>6.359736</td>\n",
              "      <td>-0.008016</td>\n",
              "      <td>0.963898</td>\n",
              "    </tr>\n",
              "    <tr>\n",
              "      <th>496</th>\n",
              "      <td>-0.024048</td>\n",
              "      <td>6.638872</td>\n",
              "      <td>-0.006012</td>\n",
              "      <td>1.006205</td>\n",
              "    </tr>\n",
              "    <tr>\n",
              "      <th>497</th>\n",
              "      <td>-0.016032</td>\n",
              "      <td>6.433141</td>\n",
              "      <td>-0.004008</td>\n",
              "      <td>0.975024</td>\n",
              "    </tr>\n",
              "    <tr>\n",
              "      <th>498</th>\n",
              "      <td>-0.008016</td>\n",
              "      <td>7.263420</td>\n",
              "      <td>-0.002004</td>\n",
              "      <td>1.100863</td>\n",
              "    </tr>\n",
              "    <tr>\n",
              "      <th>499</th>\n",
              "      <td>0.000000</td>\n",
              "      <td>6.475258</td>\n",
              "      <td>0.000000</td>\n",
              "      <td>0.981407</td>\n",
              "    </tr>\n",
              "  </tbody>\n",
              "</table>\n",
              "<p>500 rows × 4 columns</p>\n",
              "</div>"
            ],
            "text/plain": [
              "     Predictor    Output  scaled_Predictor  scaled_Output\n",
              "0    -4.000000  1.653662         -1.000000       0.250633\n",
              "1    -3.991984  1.620380         -0.997996       0.245589\n",
              "2    -3.983968  1.807703         -0.995992       0.273980\n",
              "3    -3.975952  2.810769         -0.993988       0.426007\n",
              "4    -3.967936  1.552902         -0.991984       0.235362\n",
              "..         ...       ...               ...            ...\n",
              "495  -0.032064  6.359736         -0.008016       0.963898\n",
              "496  -0.024048  6.638872         -0.006012       1.006205\n",
              "497  -0.016032  6.433141         -0.004008       0.975024\n",
              "498  -0.008016  7.263420         -0.002004       1.100863\n",
              "499   0.000000  6.475258          0.000000       0.981407\n",
              "\n",
              "[500 rows x 4 columns]"
            ]
          },
          "metadata": {
            "tags": []
          },
          "execution_count": 56
        }
      ]
    },
    {
      "cell_type": "code",
      "metadata": {
        "id": "S_hPt6lgqTw_"
      },
      "source": [
        "from sklearn.model_selection import train_test_split\n",
        "\n",
        "# Splits the data into training and test set\n",
        "x_train, x_test, y_train, y_test = train_test_split(df.scaled_Predictor, df.scaled_Output)"
      ],
      "id": "S_hPt6lgqTw_",
      "execution_count": 57,
      "outputs": []
    },
    {
      "cell_type": "code",
      "metadata": {
        "colab": {
          "base_uri": "https://localhost:8080/",
          "height": 421
        },
        "id": "2B01PtH9cHcu",
        "outputId": "bd2e7810-9c9d-4c1f-c83b-522e8a5adeb3"
      },
      "source": [
        "plt.figure(figsize=(8,6))\n",
        "plt.title(\"Dataset\")\n",
        "plt.xlabel('X value')\n",
        "plt.ylabel('Y value')\n",
        "plt.scatter(x_train, y_train, marker='.', color='blue')"
      ],
      "id": "2B01PtH9cHcu",
      "execution_count": 58,
      "outputs": [
        {
          "output_type": "execute_result",
          "data": {
            "text/plain": [
              "<matplotlib.collections.PathCollection at 0x7f42d6f1fe90>"
            ]
          },
          "metadata": {
            "tags": []
          },
          "execution_count": 58
        },
        {
          "output_type": "display_data",
          "data": {
            "image/png": "[encoded data removed]",
            "text/plain": [
              "<Figure size 576x432 with 1 Axes>"
            ]
          },
          "metadata": {
            "tags": [],
            "needs_background": "light"
          }
        }
      ]
    },
    {
      "cell_type": "code",
      "metadata": {
        "colab": {
          "base_uri": "https://localhost:8080/",
          "height": 391
        },
        "id": "nurNOk23st35",
        "outputId": "c336a412-658e-46cb-c840-3e92e11b3a32"
      },
      "source": [
        "plt.figure(figsize=(8,6))\n",
        "plt.scatter(x_test, y_test, marker='.', color='g')"
      ],
      "id": "nurNOk23st35",
      "execution_count": 59,
      "outputs": [
        {
          "output_type": "execute_result",
          "data": {
            "text/plain": [
              "<matplotlib.collections.PathCollection at 0x7f42d6d84fd0>"
            ]
          },
          "metadata": {
            "tags": []
          },
          "execution_count": 59
        },
        {
          "output_type": "display_data",
          "data": {
            "image/png": "[encoded data removed]",
            "text/plain": [
              "<Figure size 576x432 with 1 Axes>"
            ]
          },
          "metadata": {
            "tags": [],
            "needs_background": "light"
          }
        }
      ]
    },
    {
      "cell_type": "markdown",
      "metadata": {
        "id": "eG-ol2YCBpwI"
      },
      "source": [
        "## Linear Regression Using Least Square Method"
      ],
      "id": "eG-ol2YCBpwI"
    },
    {
      "cell_type": "markdown",
      "metadata": {
        "id": "YFH4BAy0CEwn"
      },
      "source": [
        "<!--NAVIGATION-->\n",
        "*To understand the least square method please do visit here: [The Least Squares Method](https://docs.google.com/document/d/1vXgizn0Zz5VM_mTEfrRqwydfCyn0OY5DNlkieFLRU68/edit)*"
      ],
      "id": "YFH4BAy0CEwn"
    },
    {
      "cell_type": "code",
      "metadata": {
        "id": "3b_5DxWPcY3n"
      },
      "source": [
        "# Regression model\n",
        "def regression(x,y):\n",
        "  n = len(x)\n",
        "  sum_x = np.sum(x)\n",
        "  sum_y = np.sum(y)\n",
        "  sum_s_squared = np.sum(np.square(x))\n",
        "  sum_xy = np.sum(x*y)\n",
        "\n",
        "  # Slope\n",
        "  m = (n*sum_xy - sum_x*sum_y)/(n*sum_s_squared - sum_x**2)\n",
        "  # y-intercept\n",
        "  c = (sum_y - m*sum_x)/n\n",
        "\n",
        "  return m, c\n",
        "\n",
        "# Function to calculate squared error\n",
        "def mean_squared_error(actual, observed):\n",
        "  return np.sum((actual-observed)**2)/len(actual)\n",
        "\n",
        "# Function to calculate r-squared\n",
        "def r_squared(actual, observed):\n",
        "  var_mean = np.var(actual)\n",
        "  var_fit = mean_squared_error(actual, observed)/len(actual)\n",
        "  return (var_mean-var_fit) / var_mean\n",
        "\n",
        "# Cost function for gradient descent\n",
        "def cost_function(actual, observed):\n",
        "  return 1/2*mean_squared_error(actual, observed)"
      ],
      "id": "3b_5DxWPcY3n",
      "execution_count": 60,
      "outputs": []
    },
    {
      "cell_type": "code",
      "metadata": {
        "id": "NfpmIyR9e0JV",
        "colab": {
          "base_uri": "https://localhost:8080/"
        },
        "outputId": "e5618cca-8568-42dd-9aa3-71d52db6c19b"
      },
      "source": [
        "# Calling the module\n",
        "slope, intercept = regression(x_train,y_train)\n",
        "print(\"slope:\",slope,\"    intercept:\",intercept)\n",
        "\n",
        "# Array of predictions\n",
        "y_guess_train = slope*x_train + intercept\n",
        "y_guess_test = slope*x_test + intercept\n",
        "\n",
        "# Calculates the squared error\n",
        "print(\"\\nTraining MSE:\", mean_squared_error(y_train, y_guess_train))\n",
        "print(\"Testing MSE:\", mean_squared_error(y_test, y_guess_test))\n",
        "\n",
        "# Calculates R-squared\n",
        "print(\"\\nTraining R-squared:\", r_squared(y_train, y_guess_train))\n",
        "print(\"Testing R-squared:\", r_squared(y_test, y_guess_test))\n",
        "\n",
        "## Prints the correlation coefficient\n",
        "#print(np.corrcoef(y, y_guess))\n",
        "\n",
        "# Calculates the cost function (mean squared deviation)\n",
        "#print(\"Cost function:\", cost_function(y, y_guess))"
      ],
      "id": "NfpmIyR9e0JV",
      "execution_count": 61,
      "outputs": [
        {
          "output_type": "stream",
          "text": [
            "slope: 0.674718974864616     intercept: 0.8546058713174178\n",
            "\n",
            "Training MSE: 0.010321460138860573\n",
            "Testing MSE: 0.010599461660055926\n",
            "\n",
            "Training R-squared: 0.9994193291609672\n",
            "Testing R-squared: 0.9983413461194383\n"
          ],
          "name": "stdout"
        }
      ]
    },
    {
      "cell_type": "code",
      "metadata": {
        "colab": {
          "base_uri": "https://localhost:8080/",
          "height": 421
        },
        "id": "6qu6krrwfcNJ",
        "outputId": "10fb353f-3662-4edd-e484-3a7b3b048d82"
      },
      "source": [
        "plt.figure(figsize=(8, 6))\n",
        "plt.title(\"Regression line Fitting\")\n",
        "plt.xlabel('X value')\n",
        "plt.ylabel('Y value')\n",
        "plt.scatter(x_train, y_train, marker='.', color='blue')\n",
        "#plt.scatter(x_test, y_test, marker='.', color='r')\n",
        "plt.scatter(x_train, y_guess_train, marker='.', color='r', alpha=0.7)"
      ],
      "id": "6qu6krrwfcNJ",
      "execution_count": 62,
      "outputs": [
        {
          "output_type": "execute_result",
          "data": {
            "text/plain": [
              "<matplotlib.collections.PathCollection at 0x7f42d6a6cdd0>"
            ]
          },
          "metadata": {
            "tags": []
          },
          "execution_count": 62
        },
        {
          "output_type": "display_data",
          "data": {
            "image/png": "[encoded data removed]",
            "text/plain": [
              "<Figure size 576x432 with 1 Axes>"
            ]
          },
          "metadata": {
            "tags": [],
            "needs_background": "light"
          }
        }
      ]
    },
    {
      "cell_type": "markdown",
      "metadata": {
        "id": "7l664phMBPsA"
      },
      "source": [
        "## Linear Regression using Matrix Multiplication "
      ],
      "id": "7l664phMBPsA"
    },
    {
      "cell_type": "code",
      "metadata": {
        "id": "NsKJfAKUjLx5"
      },
      "source": [
        "# Linear Regression using matrix multiplication\n",
        "X = np.column_stack((np.ones(x_train.shape), x_train))\n",
        "w = np.empty(X.ndim)"
      ],
      "id": "NsKJfAKUjLx5",
      "execution_count": 63,
      "outputs": []
    },
    {
      "cell_type": "markdown",
      "metadata": {
        "id": "RB6OTi1L643x"
      },
      "source": [
        "*Calculates the parameter $\\theta$ = $\\begin{bmatrix}m\\\\ c \\end{bmatrix}$ using normal equation*\n",
        "$$\\theta = (X^TX)^{-1}X^TY = X^+Y$$\n",
        "<br>\n",
        "*where,*<br>\n",
        "$$X^+ = (X^TX)^{-1}X^T$$\n",
        "<br>*is called the pseudo-inverse of $X$*"
      ],
      "id": "RB6OTi1L643x"
    },
    {
      "cell_type": "code",
      "metadata": {
        "colab": {
          "base_uri": "https://localhost:8080/"
        },
        "id": "2q06AH72UTQE",
        "outputId": "0ba9f9f7-2390-4456-dd9c-a713b1aaaad1"
      },
      "source": [
        "y_train = np.array(y_train)\n",
        "theta = np.linalg.pinv(X)@y_train[:, np.newaxis]\n",
        "theta"
      ],
      "id": "2q06AH72UTQE",
      "execution_count": 64,
      "outputs": [
        {
          "output_type": "execute_result",
          "data": {
            "text/plain": [
              "array([[0.85460587],\n",
              "       [0.67471897]])"
            ]
          },
          "metadata": {
            "tags": []
          },
          "execution_count": 64
        }
      ]
    },
    {
      "cell_type": "code",
      "metadata": {
        "id": "mn2RYTBFcfgy",
        "colab": {
          "base_uri": "https://localhost:8080/"
        },
        "outputId": "01226dcb-1ae4-4b72-8326-3ffa9f9687f4"
      },
      "source": [
        "Y_train_pred = X @ theta\n",
        "#Y_test_pred = \n",
        "train_error = mean_squared_error(y_train, Y_train_pred.flatten())\n",
        "print(train_error)"
      ],
      "id": "mn2RYTBFcfgy",
      "execution_count": 65,
      "outputs": [
        {
          "output_type": "stream",
          "text": [
            "0.010321460138860573\n"
          ],
          "name": "stdout"
        }
      ]
    },
    {
      "cell_type": "code",
      "metadata": {
        "colab": {
          "base_uri": "https://localhost:8080/",
          "height": 391
        },
        "id": "C96Ufp_ZcsK6",
        "outputId": "1658d356-96f5-41f1-9806-323f1facaaba"
      },
      "source": [
        "plt.figure(figsize=(8,6))\n",
        "plt.scatter(x_train, y_train, marker='.', color='b',)\n",
        "plt.scatter(x_train, Y_train_pred, marker='.', color='r', alpha=0.6)"
      ],
      "id": "C96Ufp_ZcsK6",
      "execution_count": 66,
      "outputs": [
        {
          "output_type": "execute_result",
          "data": {
            "text/plain": [
              "<matplotlib.collections.PathCollection at 0x7f42d65cc990>"
            ]
          },
          "metadata": {
            "tags": []
          },
          "execution_count": 66
        },
        {
          "output_type": "display_data",
          "data": {
            "image/png": "[encoded data removed]",
            "text/plain": [
              "<Figure size 576x432 with 1 Axes>"
            ]
          },
          "metadata": {
            "tags": [],
            "needs_background": "light"
          }
        }
      ]
    },
    {
      "cell_type": "markdown",
      "metadata": {
        "id": "hOM1C0niNUy-"
      },
      "source": [
        "## Linear Regression Using Gradient Descent"
      ],
      "id": "hOM1C0niNUy-"
    },
    {
      "cell_type": "code",
      "metadata": {
        "id": "1vObL71CdJcm",
        "colab": {
          "base_uri": "https://localhost:8080/"
        },
        "outputId": "71b4b3ab-147c-47db-b666-efdd042df676"
      },
      "source": [
        "## Needs to improve the function as it uses exactly 1 million iterations.\n",
        "# Cost Function\n",
        "m, c = 0., 0.\n",
        "\n",
        "# Learning rate\n",
        "alpha = 0.001\n",
        "cost = []\n",
        "n = float(len(x))\n",
        "for i in range(1_000_000):\n",
        "  hyp = m*x+c\n",
        "  d_c = 1/n*np.sum((hyp - y))\n",
        "  d_m = 1/n*np.sum((hyp-y)*x)\n",
        "  m = m-alpha*d_m\n",
        "  c = c-alpha*d_c\n",
        "  cost.append(cost_function(y, hyp))\n",
        "\n",
        "cost = np.array(cost)\n",
        "\n",
        "print(\"cost function: \", cost_function(y, hyp))\n",
        "print(\"m:\",m,\"    c:\",c)\n",
        "y_hat = m*x+c"
      ],
      "id": "1vObL71CdJcm",
      "execution_count": 70,
      "outputs": [
        {
          "output_type": "stream",
          "text": [
            "cost function:  0.2261120551196978\n",
            "m: 1.1125028383890057     c: 5.6488268919115505\n"
          ],
          "name": "stdout"
        }
      ]
    },
    {
      "cell_type": "code",
      "metadata": {
        "id": "g07cJdYjF33k",
        "colab": {
          "base_uri": "https://localhost:8080/",
          "height": 391
        },
        "outputId": "390ad8a5-bfe5-4e58-9b4d-6fc9b4210b7e"
      },
      "source": [
        "plt.figure(figsize=(8,6))\n",
        "plt.scatter(x, y, marker='.', color='b',)\n",
        "plt.scatter(x, y_hat, marker='.', color='r', alpha=0.6)  "
      ],
      "id": "g07cJdYjF33k",
      "execution_count": 71,
      "outputs": [
        {
          "output_type": "execute_result",
          "data": {
            "text/plain": [
              "<matplotlib.collections.PathCollection at 0x7f42d5eb2c50>"
            ]
          },
          "metadata": {
            "tags": []
          },
          "execution_count": 71
        },
        {
          "output_type": "display_data",
          "data": {
            "image/png": "[encoded data removed]",
            "text/plain": [
              "<Figure size 576x432 with 1 Axes>"
            ]
          },
          "metadata": {
            "tags": [],
            "needs_background": "light"
          }
        }
      ]
    },
    {
      "cell_type": "code",
      "metadata": {
        "id": "8x3TKpbdlWzK",
        "colab": {
          "base_uri": "https://localhost:8080/",
          "height": 295
        },
        "outputId": "1fb86412-4fac-497e-9971-21e15b4e8323"
      },
      "source": [
        "# Plots the cost function vs number of iterations\n",
        "plt.plot(np.array(range(1,1000001)), cost)"
      ],
      "id": "8x3TKpbdlWzK",
      "execution_count": 72,
      "outputs": [
        {
          "output_type": "execute_result",
          "data": {
            "text/plain": [
              "[<matplotlib.lines.Line2D at 0x7f42d324cf90>]"
            ]
          },
          "metadata": {
            "tags": []
          },
          "execution_count": 72
        },
        {
          "output_type": "display_data",
          "data": {
            "image/png": "[encoded data removed]",
            "text/plain": [
              "<Figure size 432x288 with 1 Axes>"
            ]
          },
          "metadata": {
            "tags": [],
            "needs_background": "light"
          }
        }
      ]
    },
    {
      "cell_type": "markdown",
      "metadata": {
        "id": "3ehZCV-f8455"
      },
      "source": [
        "## <p style='color:red'>The contour plot (which of course doesn't look like so) needs to be fixed.</p>"
      ],
      "id": "3ehZCV-f8455"
    },
    {
      "cell_type": "code",
      "metadata": {
        "id": "TZ6mNSxgEhZV"
      },
      "source": [
        "from mpl_toolkits import mplot3d\n",
        "ax = plt.axes(projection='3d')\n",
        "theta0 = np.linspace(-1,1,200)\n",
        "theta1 = np.linspace(0,2,200)\n",
        "X, Y = np.meshgrid(theta0, theta1)\n",
        "cost_z = cost[0::500]\n",
        "COST_Z = np.tile(cost_z, (len(cost_z), 1))\n",
        "\n",
        "ax.plot_surface(X, Y, COST_Z, rstride=1, cstride=1,\n",
        "                cmap='hot', edgecolor='none')\n",
        "ax.set_title('surface');"
      ],
      "id": "TZ6mNSxgEhZV",
      "execution_count": null,
      "outputs": []
    },
    {
      "cell_type": "code",
      "metadata": {
        "id": "54ooccGBn_RB"
      },
      "source": [
        "sns.displot(x=theta0, y=theta1, kind='kde')"
      ],
      "id": "54ooccGBn_RB",
      "execution_count": null,
      "outputs": []
    }
  ]
}